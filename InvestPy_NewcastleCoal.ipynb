{
 "cells": [
  {
   "cell_type": "code",
   "execution_count": 2,
   "id": "ca7b7a1b",
   "metadata": {},
   "outputs": [],
   "source": [
    "import investpy\n",
    "import pandas\n",
    "import matplotlib \n"
   ]
  },
  {
   "cell_type": "code",
   "execution_count": 3,
   "id": "f640caec",
   "metadata": {},
   "outputs": [],
   "source": [
    "search_results = investpy.search_quotes(text='Newcastle Coal', products=['commodities'], countries=['United kingdom'])"
   ]
  },
  {
   "cell_type": "code",
   "execution_count": 4,
   "id": "9ab6878e",
   "metadata": {},
   "outputs": [
    {
     "name": "stdout",
     "output_type": "stream",
     "text": [
      "{\"id_\": 1112837, \"name\": \"Newcastle Coal Futures\", \"symbol\": \"NCFMc1\", \"country\": null, \"tag\": \"/commodities/newcastle-coal-futures\", \"pair_type\": \"commodities\", \"exchange\": \"ICE\"}\n"
     ]
    }
   ],
   "source": [
    "for search_result in search_results:\n",
    "    print(search_result)"
   ]
  },
  {
   "cell_type": "code",
   "execution_count": 5,
   "id": "fbb89eeb",
   "metadata": {},
   "outputs": [
    {
     "name": "stdout",
     "output_type": "stream",
     "text": [
      "{\"id_\": 1112837, \"name\": \"Newcastle Coal Futures\", \"symbol\": \"NCFMc1\", \"country\": null, \"tag\": \"/commodities/newcastle-coal-futures\", \"pair_type\": \"commodities\", \"exchange\": \"ICE\"}\n"
     ]
    }
   ],
   "source": [
    "search_result = search_results.pop(0)\n",
    "print(search_result)"
   ]
  },
  {
   "cell_type": "code",
   "execution_count": 8,
   "id": "ac89a1a2",
   "metadata": {},
   "outputs": [
    {
     "data": {
      "text/html": [
       "<div>\n",
       "<style scoped>\n",
       "    .dataframe tbody tr th:only-of-type {\n",
       "        vertical-align: middle;\n",
       "    }\n",
       "\n",
       "    .dataframe tbody tr th {\n",
       "        vertical-align: top;\n",
       "    }\n",
       "\n",
       "    .dataframe thead th {\n",
       "        text-align: right;\n",
       "    }\n",
       "</style>\n",
       "<table border=\"1\" class=\"dataframe\">\n",
       "  <thead>\n",
       "    <tr style=\"text-align: right;\">\n",
       "      <th></th>\n",
       "      <th>Open</th>\n",
       "      <th>High</th>\n",
       "      <th>Low</th>\n",
       "      <th>Close</th>\n",
       "      <th>Volume</th>\n",
       "      <th>Change Pct</th>\n",
       "    </tr>\n",
       "    <tr>\n",
       "      <th>Date</th>\n",
       "      <th></th>\n",
       "      <th></th>\n",
       "      <th></th>\n",
       "      <th></th>\n",
       "      <th></th>\n",
       "      <th></th>\n",
       "    </tr>\n",
       "  </thead>\n",
       "  <tbody>\n",
       "    <tr>\n",
       "      <th>2022-04-20</th>\n",
       "      <td>326.35</td>\n",
       "      <td>326.35</td>\n",
       "      <td>326.35</td>\n",
       "      <td>326.35</td>\n",
       "      <td>5</td>\n",
       "      <td>1.67</td>\n",
       "    </tr>\n",
       "    <tr>\n",
       "      <th>2022-04-21</th>\n",
       "      <td>333.00</td>\n",
       "      <td>333.00</td>\n",
       "      <td>331.00</td>\n",
       "      <td>331.10</td>\n",
       "      <td>35</td>\n",
       "      <td>1.46</td>\n",
       "    </tr>\n",
       "    <tr>\n",
       "      <th>2022-04-22</th>\n",
       "      <td>326.00</td>\n",
       "      <td>326.00</td>\n",
       "      <td>326.00</td>\n",
       "      <td>327.10</td>\n",
       "      <td>6</td>\n",
       "      <td>-1.21</td>\n",
       "    </tr>\n",
       "    <tr>\n",
       "      <th>2022-04-25</th>\n",
       "      <td>328.50</td>\n",
       "      <td>328.50</td>\n",
       "      <td>328.50</td>\n",
       "      <td>328.60</td>\n",
       "      <td>45</td>\n",
       "      <td>0.46</td>\n",
       "    </tr>\n",
       "    <tr>\n",
       "      <th>2022-04-26</th>\n",
       "      <td>325.00</td>\n",
       "      <td>325.00</td>\n",
       "      <td>325.00</td>\n",
       "      <td>325.00</td>\n",
       "      <td>35</td>\n",
       "      <td>-1.10</td>\n",
       "    </tr>\n",
       "  </tbody>\n",
       "</table>\n",
       "</div>"
      ],
      "text/plain": [
       "              Open    High     Low   Close  Volume  Change Pct\n",
       "Date                                                          \n",
       "2022-04-20  326.35  326.35  326.35  326.35       5        1.67\n",
       "2022-04-21  333.00  333.00  331.00  331.10      35        1.46\n",
       "2022-04-22  326.00  326.00  326.00  327.10       6       -1.21\n",
       "2022-04-25  328.50  328.50  328.50  328.60      45        0.46\n",
       "2022-04-26  325.00  325.00  325.00  325.00      35       -1.10"
      ]
     },
     "execution_count": 8,
     "metadata": {},
     "output_type": "execute_result"
    }
   ],
   "source": [
    "coal_recent_data = search_result.retrieve_recent_data()\n",
    "\n",
    "coal_recent_data.head()"
   ]
  },
  {
   "cell_type": "code",
   "execution_count": 9,
   "id": "830c28c7",
   "metadata": {},
   "outputs": [
    {
     "data": {
      "text/html": [
       "<div>\n",
       "<style scoped>\n",
       "    .dataframe tbody tr th:only-of-type {\n",
       "        vertical-align: middle;\n",
       "    }\n",
       "\n",
       "    .dataframe tbody tr th {\n",
       "        vertical-align: top;\n",
       "    }\n",
       "\n",
       "    .dataframe thead th {\n",
       "        text-align: right;\n",
       "    }\n",
       "</style>\n",
       "<table border=\"1\" class=\"dataframe\">\n",
       "  <thead>\n",
       "    <tr style=\"text-align: right;\">\n",
       "      <th></th>\n",
       "      <th>Open</th>\n",
       "      <th>High</th>\n",
       "      <th>Low</th>\n",
       "      <th>Close</th>\n",
       "      <th>Volume</th>\n",
       "      <th>Change Pct</th>\n",
       "    </tr>\n",
       "    <tr>\n",
       "      <th>Date</th>\n",
       "      <th></th>\n",
       "      <th></th>\n",
       "      <th></th>\n",
       "      <th></th>\n",
       "      <th></th>\n",
       "      <th></th>\n",
       "    </tr>\n",
       "  </thead>\n",
       "  <tbody>\n",
       "    <tr>\n",
       "      <th>2010-01-04</th>\n",
       "      <td>92.60</td>\n",
       "      <td>92.60</td>\n",
       "      <td>92.60</td>\n",
       "      <td>92.60</td>\n",
       "      <td>5</td>\n",
       "      <td>2.77</td>\n",
       "    </tr>\n",
       "    <tr>\n",
       "      <th>2010-01-05</th>\n",
       "      <td>96.08</td>\n",
       "      <td>96.08</td>\n",
       "      <td>96.08</td>\n",
       "      <td>96.08</td>\n",
       "      <td>5</td>\n",
       "      <td>3.76</td>\n",
       "    </tr>\n",
       "    <tr>\n",
       "      <th>2010-01-06</th>\n",
       "      <td>97.16</td>\n",
       "      <td>97.16</td>\n",
       "      <td>97.16</td>\n",
       "      <td>97.16</td>\n",
       "      <td>5</td>\n",
       "      <td>1.12</td>\n",
       "    </tr>\n",
       "    <tr>\n",
       "      <th>2010-01-07</th>\n",
       "      <td>101.72</td>\n",
       "      <td>101.72</td>\n",
       "      <td>101.72</td>\n",
       "      <td>101.72</td>\n",
       "      <td>25</td>\n",
       "      <td>4.69</td>\n",
       "    </tr>\n",
       "    <tr>\n",
       "      <th>2010-01-08</th>\n",
       "      <td>100.38</td>\n",
       "      <td>100.38</td>\n",
       "      <td>100.38</td>\n",
       "      <td>100.38</td>\n",
       "      <td>5</td>\n",
       "      <td>-1.32</td>\n",
       "    </tr>\n",
       "  </tbody>\n",
       "</table>\n",
       "</div>"
      ],
      "text/plain": [
       "              Open    High     Low   Close  Volume  Change Pct\n",
       "Date                                                          \n",
       "2010-01-04   92.60   92.60   92.60   92.60       5        2.77\n",
       "2010-01-05   96.08   96.08   96.08   96.08       5        3.76\n",
       "2010-01-06   97.16   97.16   97.16   97.16       5        1.12\n",
       "2010-01-07  101.72  101.72  101.72  101.72      25        4.69\n",
       "2010-01-08  100.38  100.38  100.38  100.38       5       -1.32"
      ]
     },
     "execution_count": 9,
     "metadata": {},
     "output_type": "execute_result"
    }
   ],
   "source": [
    "coal_historical_data = search_result.retrieve_historical_data(from_date='01/01/2010', to_date='01/01/2022')\n",
    "coal_historical_data.head()"
   ]
  },
  {
   "cell_type": "code",
   "execution_count": 10,
   "id": "38f33aac",
   "metadata": {},
   "outputs": [
    {
     "data": {
      "text/plain": [
       "{'prevClose': 412,\n",
       " 'tick_size': '-',\n",
       " 'open': 416,\n",
       " 'contract_size': '-',\n",
       " 'tick_value': '-',\n",
       " 'dailyRange': '412-419.25',\n",
       " 'settlement_type': '-',\n",
       " 'base_symbol': '-',\n",
       " 'weekRange': '101-435',\n",
       " 'settlement_date': '05/27/2022',\n",
       " 'point_value': '-',\n",
       " 'oneYearReturn': '315.74%',\n",
       " 'rollover_day': '-',\n",
       " 'instrument_month': '-'}"
      ]
     },
     "execution_count": 10,
     "metadata": {},
     "output_type": "execute_result"
    }
   ],
   "source": [
    "stock_information = search_result.retrieve_information()\n",
    "\n",
    "stock_information"
   ]
  },
  {
   "cell_type": "code",
   "execution_count": 11,
   "id": "5094a48d",
   "metadata": {},
   "outputs": [
    {
     "ename": "NameError",
     "evalue": "name 'historical_data' is not defined",
     "output_type": "error",
     "traceback": [
      "\u001b[1;31m---------------------------------------------------------------------------\u001b[0m",
      "\u001b[1;31mNameError\u001b[0m                                 Traceback (most recent call last)",
      "\u001b[1;32m<ipython-input-11-03f230ca27a9>\u001b[0m in \u001b[0;36m<module>\u001b[1;34m\u001b[0m\n\u001b[0;32m      1\u001b[0m \u001b[1;31m# info\u001b[0m\u001b[1;33m\u001b[0m\u001b[1;33m\u001b[0m\u001b[1;33m\u001b[0m\u001b[0m\n\u001b[1;32m----> 2\u001b[1;33m \u001b[0mhistorical_data\u001b[0m\u001b[1;33m.\u001b[0m\u001b[0minfo\u001b[0m\u001b[1;33m(\u001b[0m\u001b[1;33m)\u001b[0m\u001b[1;33m\u001b[0m\u001b[1;33m\u001b[0m\u001b[0m\n\u001b[0m",
      "\u001b[1;31mNameError\u001b[0m: name 'historical_data' is not defined"
     ]
    }
   ],
   "source": [
    "# info\n",
    "historical_data.info()"
   ]
  },
  {
   "cell_type": "code",
   "execution_count": null,
   "id": "308fa795",
   "metadata": {},
   "outputs": [],
   "source": []
  }
 ],
 "metadata": {
  "kernelspec": {
   "display_name": "Python 3",
   "language": "python",
   "name": "python3"
  },
  "language_info": {
   "codemirror_mode": {
    "name": "ipython",
    "version": 3
   },
   "file_extension": ".py",
   "mimetype": "text/x-python",
   "name": "python",
   "nbconvert_exporter": "python",
   "pygments_lexer": "ipython3",
   "version": "3.8.8"
  }
 },
 "nbformat": 4,
 "nbformat_minor": 5
}
