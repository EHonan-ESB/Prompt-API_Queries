{
 "cells": [
  {
   "cell_type": "code",
   "execution_count": 12,
   "id": "b4c3ee07",
   "metadata": {},
   "outputs": [],
   "source": [
    "import investpy\n",
    "import pandas\n",
    "import matplotlib "
   ]
  },
  {
   "cell_type": "code",
   "execution_count": 13,
   "id": "9d542b77",
   "metadata": {},
   "outputs": [],
   "source": [
    "# uk natural gas \n",
    "\n",
    "search_results = investpy.search_quotes(text='natural gas', products=['commodities'], countries=['United kingdom'])"
   ]
  },
  {
   "cell_type": "code",
   "execution_count": 14,
   "id": "29b326f6",
   "metadata": {},
   "outputs": [
    {
     "name": "stdout",
     "output_type": "stream",
     "text": [
      "{\"id_\": 1057002, \"name\": \"Natural Gas Futures\", \"symbol\": \"NGLNMc1\", \"country\": null, \"tag\": \"/commodities/natural-gas?cid=1057002\", \"pair_type\": \"commodities\", \"exchange\": \"ICE\"}\n",
      "{\"id_\": 1186981, \"name\": \"Natural Gas Futures\", \"symbol\": \"NGLNSc1\", \"country\": null, \"tag\": \"/commodities/natural-gas?cid=1186981\", \"pair_type\": \"commodities\", \"exchange\": \"ICE\"}\n",
      "{\"id_\": 1186982, \"name\": \"Natural Gas Futures\", \"symbol\": \"NGLNSc2\", \"country\": null, \"tag\": \"/commodities/natural-gas?cid=1186982\", \"pair_type\": \"commodities\", \"exchange\": \"ICE\"}\n",
      "{\"id_\": 1186983, \"name\": \"Natural Gas Futures\", \"symbol\": \"NGLNSc3\", \"country\": null, \"tag\": \"/commodities/natural-gas?cid=1186983\", \"pair_type\": \"commodities\", \"exchange\": \"ICE\"}\n"
     ]
    }
   ],
   "source": [
    "for search_result in search_results:\n",
    "    print(search_result)"
   ]
  },
  {
   "cell_type": "code",
   "execution_count": 15,
   "id": "956ba4b1",
   "metadata": {},
   "outputs": [
    {
     "data": {
      "text/html": [
       "<div>\n",
       "<style scoped>\n",
       "    .dataframe tbody tr th:only-of-type {\n",
       "        vertical-align: middle;\n",
       "    }\n",
       "\n",
       "    .dataframe tbody tr th {\n",
       "        vertical-align: top;\n",
       "    }\n",
       "\n",
       "    .dataframe thead th {\n",
       "        text-align: right;\n",
       "    }\n",
       "</style>\n",
       "<table border=\"1\" class=\"dataframe\">\n",
       "  <thead>\n",
       "    <tr style=\"text-align: right;\">\n",
       "      <th></th>\n",
       "      <th>Open</th>\n",
       "      <th>High</th>\n",
       "      <th>Low</th>\n",
       "      <th>Close</th>\n",
       "      <th>Volume</th>\n",
       "      <th>Change Pct</th>\n",
       "    </tr>\n",
       "    <tr>\n",
       "      <th>Date</th>\n",
       "      <th></th>\n",
       "      <th></th>\n",
       "      <th></th>\n",
       "      <th></th>\n",
       "      <th></th>\n",
       "      <th></th>\n",
       "    </tr>\n",
       "  </thead>\n",
       "  <tbody>\n",
       "    <tr>\n",
       "      <th>2022-04-20</th>\n",
       "      <td>190.00</td>\n",
       "      <td>193.50</td>\n",
       "      <td>190.00</td>\n",
       "      <td>192.10</td>\n",
       "      <td>40</td>\n",
       "      <td>3.77</td>\n",
       "    </tr>\n",
       "    <tr>\n",
       "      <th>2022-04-21</th>\n",
       "      <td>189.00</td>\n",
       "      <td>196.56</td>\n",
       "      <td>189.00</td>\n",
       "      <td>196.18</td>\n",
       "      <td>180</td>\n",
       "      <td>2.12</td>\n",
       "    </tr>\n",
       "    <tr>\n",
       "      <th>2022-04-22</th>\n",
       "      <td>195.50</td>\n",
       "      <td>196.30</td>\n",
       "      <td>191.25</td>\n",
       "      <td>192.23</td>\n",
       "      <td>140</td>\n",
       "      <td>-2.01</td>\n",
       "    </tr>\n",
       "    <tr>\n",
       "      <th>2022-04-25</th>\n",
       "      <td>193.51</td>\n",
       "      <td>194.00</td>\n",
       "      <td>189.00</td>\n",
       "      <td>188.98</td>\n",
       "      <td>75</td>\n",
       "      <td>-1.69</td>\n",
       "    </tr>\n",
       "    <tr>\n",
       "      <th>2022-04-26</th>\n",
       "      <td>180.00</td>\n",
       "      <td>182.38</td>\n",
       "      <td>170.50</td>\n",
       "      <td>179.20</td>\n",
       "      <td>185</td>\n",
       "      <td>-5.17</td>\n",
       "    </tr>\n",
       "  </tbody>\n",
       "</table>\n",
       "</div>"
      ],
      "text/plain": [
       "              Open    High     Low   Close  Volume  Change Pct\n",
       "Date                                                          \n",
       "2022-04-20  190.00  193.50  190.00  192.10      40        3.77\n",
       "2022-04-21  189.00  196.56  189.00  196.18     180        2.12\n",
       "2022-04-22  195.50  196.30  191.25  192.23     140       -2.01\n",
       "2022-04-25  193.51  194.00  189.00  188.98      75       -1.69\n",
       "2022-04-26  180.00  182.38  170.50  179.20     185       -5.17"
      ]
     },
     "execution_count": 15,
     "metadata": {},
     "output_type": "execute_result"
    }
   ],
   "source": [
    "natgas_recent_data = search_result.retrieve_recent_data()\n",
    "\n",
    "natgas_recent_data.head()"
   ]
  },
  {
   "cell_type": "code",
   "execution_count": 16,
   "id": "a32ea50b",
   "metadata": {},
   "outputs": [
    {
     "name": "stdout",
     "output_type": "stream",
     "text": [
      "             Open   High    Low  Close  Volume  Change Pct\n",
      "Date                                                      \n",
      "2014-11-06  52.55  53.15  52.50  52.90     350        0.36\n",
      "2014-11-07  53.10  53.60  53.10  53.62     435        1.36\n",
      "2014-11-10  53.85  53.85  53.80  53.77     220        0.28\n",
      "2014-11-11  53.35  53.35  53.25  53.35     195       -0.78\n",
      "2014-11-12  53.35  53.45  53.35  53.46     270        0.21\n",
      "...           ...    ...    ...    ...     ...         ...\n",
      "2021-12-23  98.95  98.95  95.80  95.64      70       -3.40\n",
      "2021-12-24  93.00  94.00  93.00  94.21      55       -1.50\n",
      "2021-12-29  94.50  94.99  94.50  94.80      15        0.63\n",
      "2021-12-30  84.00  92.50  77.51  90.00      35       -5.07\n",
      "2021-12-31  80.03  80.03  80.03  80.03       0      -11.07\n",
      "\n",
      "[1809 rows x 6 columns]\n"
     ]
    }
   ],
   "source": [
    "natgas_historical_data = search_result.retrieve_historical_data(from_date='01/01/2010', to_date='01/01/2022')\n",
    "print(natgas_historical_data)"
   ]
  },
  {
   "cell_type": "code",
   "execution_count": null,
   "id": "acbd5522",
   "metadata": {},
   "outputs": [],
   "source": []
  }
 ],
 "metadata": {
  "kernelspec": {
   "display_name": "Python 3",
   "language": "python",
   "name": "python3"
  },
  "language_info": {
   "codemirror_mode": {
    "name": "ipython",
    "version": 3
   },
   "file_extension": ".py",
   "mimetype": "text/x-python",
   "name": "python",
   "nbconvert_exporter": "python",
   "pygments_lexer": "ipython3",
   "version": "3.8.8"
  }
 },
 "nbformat": 4,
 "nbformat_minor": 5
}
